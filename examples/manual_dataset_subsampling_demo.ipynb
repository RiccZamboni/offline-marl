{
 "cells": [
  {
   "cell_type": "markdown",
   "metadata": {},
   "source": [
    "# Dataset Bespoke Subsampling Demo\n",
    "\n",
    "This notebook demonstrates how to use the high-level analysis tooling from OG-MARL to inspect datasets."
   ]
  },
  {
   "cell_type": "code",
   "execution_count": 1,
   "metadata": {},
   "outputs": [],
   "source": [
    "from og_marl.vault_utils.download_vault import *\n",
    "from og_marl.vault_utils.analyse_vault import analyse_vault\n",
    "from flashbax.vault import Vault\n",
    "import jax\n",
    "import matplotlib.pyplot as plt\n",
    "from og_marl.vault_utils.subsample_smaller import subsample_smaller_vault\n",
    "from og_marl.vault_utils.subsample_similar import subsample_similar\n",
    "from og_marl.vault_utils.combine_vaults import combine_vaults\n",
    "from og_marl.vault_utils.analyse_vault import full_analysis"
   ]
  },
  {
   "cell_type": "markdown",
   "metadata": {},
   "source": [
    "See dataset_analysis_demo for more information on downloading and accessing OG-MARL vaults."
   ]
  },
  {
   "cell_type": "code",
   "execution_count": 3,
   "metadata": {},
   "outputs": [
    {
     "name": "stdout",
     "output_type": "stream",
     "text": [
      "Vault './vaults/og_marl/smac_v1/2s3z' already exists.\n",
      "Dataset from dipidipidababa could not be downloaded. Try entering a different URL, or removing the part which auto-downloads.\n"
     ]
    }
   ],
   "source": [
    "# download / make sure dataset exists\n",
    "source = 'og_marl'\n",
    "env = 'smac_v1'\n",
    "task = '2s3z'\n",
    "\n",
    "rel_vault_location = download_and_unzip_vault(source,env,task)\n",
    "vault_uids = get_available_uids(rel_vault_location)\n",
    "\n",
    "vault_rel_dir = f\"vaults/{source}/{env}\" # combine base vault directory with the dataset source and environment folders\n",
    "vault_name = f\"{task}.vlt\" # a vault name contains only the file name which has the .vlt extension\n",
    "vault_uid = vault_uids[0] # we select the first dataset in the vault\n",
    "\n",
    "vlt = Vault(rel_dir=vault_rel_dir, vault_name=vault_name, vault_uid=vault_uid)"
   ]
  },
  {
   "cell_type": "markdown",
   "metadata": {},
   "source": [
    "For further information about a Vault's api, please see the dataset api demo."
   ]
  },
  {
   "cell_type": "markdown",
   "metadata": {},
   "source": [
    "## Subsample a vault \"by hand\""
   ]
  },
  {
   "cell_type": "markdown",
   "metadata": {},
   "source": [
    "Given a histogram of episode returns, we allow subsampling a vault according to the histogram in a flexible way. That is, we allow individul specification of the size of each bucket.\n",
    "\n",
    "We do not allow the bucket size to be larger than what exists in the subsampled datasets - you can change the function to work this way, but the effect is not necessarily what one might want. Especially with State-Action coverage in mind."
   ]
  },
  {
   "cell_type": "code",
   "execution_count": 10,
   "metadata": {},
   "outputs": [],
   "source": [
    "\n",
    "vlts, all_sorted_return_start_end = preprocess(rel_dir=\"vaults\", vault_name=\"2halfcheetah.vlt\")\n",
    "bar_labels, bar_heights, padded_heights, bin_edges, bin_numbers = bin_processed_data(all_sorted_return_start_end, n_bins=500)\n",
    "\n",
    "plt.scatter(bin_edges,padded_heights)\n",
    "plt.show()"
   ]
  },
  {
   "cell_type": "markdown",
   "metadata": {},
   "source": []
  }
 ],
 "metadata": {
  "kernelspec": {
   "display_name": "og-marl",
   "language": "python",
   "name": "python3"
  },
  "language_info": {
   "codemirror_mode": {
    "name": "ipython",
    "version": 3
   },
   "file_extension": ".py",
   "mimetype": "text/x-python",
   "name": "python",
   "nbconvert_exporter": "python",
   "pygments_lexer": "ipython3",
   "version": "3.9.19"
  }
 },
 "nbformat": 4,
 "nbformat_minor": 2
}
