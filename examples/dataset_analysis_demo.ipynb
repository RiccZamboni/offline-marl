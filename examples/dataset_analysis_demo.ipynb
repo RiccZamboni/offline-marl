{
 "cells": [
  {
   "cell_type": "markdown",
   "metadata": {},
   "source": [
    "# Dataset Analysis Demo\n",
    "\n",
    "This notebook demonstrates how to use the high-level analysis tooling from OG-MARL to inspect datasets."
   ]
  },
  {
   "cell_type": "code",
   "execution_count": 1,
   "metadata": {},
   "outputs": [],
   "source": [
    "from og_marl.vault_utils.download_vault import *\n",
    "from flashbax.vault import Vault\n",
    "import jax\n",
    "from og_marl.vault_utils.subsample_vault import subsample_smaller_vault"
   ]
  },
  {
   "cell_type": "markdown",
   "metadata": {},
   "source": [
    "## Download a vault and get to know the file structure\n",
    "### OG-MARL vault file structure"
   ]
  },
  {
   "cell_type": "code",
   "execution_count": 2,
   "metadata": {},
   "outputs": [
    {
     "name": "stdout",
     "output_type": "stream",
     "text": [
      "{'cfcql': {'smac_v1': {'2s3z': {...},\n",
      "                       '3s_vs_5z': {...},\n",
      "                       '5m_vs_6m': {...},\n",
      "                       '6h_vs_8z': {...}}},\n",
      " 'og_marl': {'mamujoco': {'2halfcheetah': {...}},\n",
      "             'smac_v1': {'2s3z': {...},\n",
      "                         '3m': {...},\n",
      "                         '3s5z_vs_3s6z': {...},\n",
      "                         '5m_vs_6m': {...},\n",
      "                         '8m': {...}},\n",
      "             'smac_v2': {'terran_5_vs_5': {...}, 'zerg_5_vs_5': {...}}}}\n"
     ]
    }
   ],
   "source": [
    "print_download_options()"
   ]
  },
  {
   "cell_type": "markdown",
   "metadata": {},
   "source": [
    "We can either choose a source-environment-task combination from those available above, or we can specify our source-environment-task combination and input our own url for downloading the (zipped) vault."
   ]
  },
  {
   "cell_type": "code",
   "execution_count": 3,
   "metadata": {},
   "outputs": [
    {
     "name": "stdout",
     "output_type": "stream",
     "text": [
      "Dir exists\n",
      "Dir not empty\n",
      "returns True\n",
      "Vault './vaults/og_marl/smac_v1/2s3z' already exists.\n",
      "Dataset from dipidipidababa could not be downloaded. Try entering a different URL, or removing the part which auto-downloads.\n"
     ]
    }
   ],
   "source": [
    "source = 'og_marl'\n",
    "env = 'smac_v1'\n",
    "task = '2s3z'\n",
    "\n",
    "rel_vault_location = download_and_unzip_vault(source,env,task)\n",
    "_ = download_and_unzip_vault(source,env,'didi',dataset_download_url=\"dipidipidababa\") #trying to download from a nonsense url will not work"
   ]
  },
  {
   "cell_type": "markdown",
   "metadata": {},
   "source": [
    "We have now downloaded our vault into a folder \".vaults/{source}/{env}/{task}.vlt\", if it didn't already exist. The vault may contain multiple datasets, each with a unique identifier, or UID."
   ]
  },
  {
   "cell_type": "code",
   "execution_count": 4,
   "metadata": {},
   "outputs": [
    {
     "name": "stdout",
     "output_type": "stream",
     "text": [
      "./vaults/og_marl/smac_v1/2s3z.vlt\n",
      "['Poor', 'Medium', 'Good']\n"
     ]
    }
   ],
   "source": [
    "print(rel_vault_location)\n",
    "vault_uids = get_available_uids(rel_vault_location)\n",
    "print(vault_uids)"
   ]
  },
  {
   "cell_type": "markdown",
   "metadata": {},
   "source": [
    "So the folder \".vaults/og_marl/smac_v1/2s3z.vlt\" contains a \"Good\", \"Medium\" and \"Poor\" dataset, each in their own folder."
   ]
  },
  {
   "cell_type": "markdown",
   "metadata": {},
   "source": [
    "### OG-MARL vault file structure to Vault file structure\n",
    "The datasets from OG-MARL are placed in a file structure for maximum information retention about the dataset, which is why we talk about source, env, task and uid. Vault distinguishes only between three path components: the relative directory in which the vault sits, the vault name, and the vault uid."
   ]
  },
  {
   "cell_type": "code",
   "execution_count": 5,
   "metadata": {},
   "outputs": [
    {
     "name": "stdout",
     "output_type": "stream",
     "text": [
      "Loading vault found at /home/louise/workspace/og-marl/examples/vaults/og_marl/smac_v1/2s3z.vlt/Poor\n"
     ]
    }
   ],
   "source": [
    "vault_rel_dir = f\"vaults/{source}/{env}\" # combine base vault directory with the dataset source and environment folders\n",
    "vault_name = f\"{task}.vlt\" # a vault name contains only the file name which has the .vlt extension\n",
    "vault_uid = vault_uids[0] # we select the first dataset in the vault\n",
    "\n",
    "vlt = Vault(rel_dir=vault_rel_dir, vault_name=vault_name, vault_uid=vault_uid)"
   ]
  },
  {
   "cell_type": "markdown",
   "metadata": {},
   "source": [
    "For further information about a Vault's api, please see the dataset api demo."
   ]
  },
  {
   "cell_type": "markdown",
   "metadata": {},
   "source": [
    "## Subsample a vault\n",
    "OG-MARL provides tooling for subsampling a vault, in the case where working with a large vault is intractable, or if you just want a smaller vault. This *creates a new vault* so keep an eye on your storage when making lots of subsampled vaults."
   ]
  },
  {
   "cell_type": "markdown",
   "metadata": {},
   "source": [
    "#### Uniformly subsampling episodes to a desired number of transitions\n",
    "We uniformly subsample episodes to within an episode of the desired number of transitions (this is to avoid subsampling partial episodes, since we often work with episode returns of a dataset and a partial episode provides an inaccurate return value).\n",
    "\n",
    "If you try to subsample an amount of transitions greater than the contents of the vault, this function will simply return a copy of the vault with the episodes shuffled, which is a potential if inefficient use case of this function.\n",
    "\n",
    "First, we see how big a dataset is."
   ]
  },
  {
   "cell_type": "code",
   "execution_count": 6,
   "metadata": {},
   "outputs": [
    {
     "name": "stderr",
     "output_type": "stream",
     "text": [
      "An NVIDIA GPU may be present on this machine, but a CUDA-enabled jaxlib is not installed. Falling back to cpu.\n"
     ]
    },
    {
     "data": {
      "text/plain": [
       "{'actions': (1, 996418, 5),\n",
       " 'infos': {'legals': (1, 996418, 5, 11), 'state': (1, 996418, 120)},\n",
       " 'observations': (1, 996418, 5, 80),\n",
       " 'rewards': (1, 996418, 5),\n",
       " 'terminals': (1, 996418, 5),\n",
       " 'truncations': (1, 996418, 5)}"
      ]
     },
     "execution_count": 6,
     "metadata": {},
     "output_type": "execute_result"
    }
   ],
   "source": [
    "all_data = vlt.read()\n",
    "offline_data = all_data.experience\n",
    "jax.tree_map(lambda x: x.shape, offline_data)"
   ]
  },
  {
   "cell_type": "markdown",
   "metadata": {},
   "source": [
    "Now that we know how many transitions are in the dataset (the second value), we can make a good choice of size for subsampling."
   ]
  },
  {
   "cell_type": "code",
   "execution_count": 7,
   "metadata": {},
   "outputs": [
    {
     "name": "stdout",
     "output_type": "stream",
     "text": [
      "Dir exists\n",
      "Dir not empty\n",
      "returns True\n",
      "Loading vault found at /home/louise/workspace/og-marl/examples/vaults/og_marl/smac_v1/2s3z.vlt/Poor\n",
      "996417\n",
      "New vault created at /home/louise/workspace/og-marl/examples/vaults/og_marl/smac_v1/2s3z_20000.vlt/Poor\n",
      "Since the provided buffer state has a temporal dimension of 20000, you must write to the vault at least every 19999 timesteps to avoid data loss.\n",
      "19986\n",
      "Loading vault found at /home/louise/workspace/og-marl/examples/vaults/og_marl/smac_v1/2s3z.vlt/Medium\n",
      "996255\n",
      "New vault created at /home/louise/workspace/og-marl/examples/vaults/og_marl/smac_v1/2s3z_20000.vlt/Medium\n",
      "Since the provided buffer state has a temporal dimension of 20000, you must write to the vault at least every 19999 timesteps to avoid data loss.\n",
      "19954\n",
      "Loading vault found at /home/louise/workspace/og-marl/examples/vaults/og_marl/smac_v1/2s3z.vlt/Good\n",
      "995828\n",
      "New vault created at /home/louise/workspace/og-marl/examples/vaults/og_marl/smac_v1/2s3z_20000.vlt/Good\n",
      "Since the provided buffer state has a temporal dimension of 20000, you must write to the vault at least every 19999 timesteps to avoid data loss.\n",
      "19937\n"
     ]
    }
   ],
   "source": [
    "n_transitions = 20000\n",
    "\n",
    "new_vault_name = subsample_smaller_vault(vault_rel_dir,vault_name,target_number_of_transitions=n_transitions)"
   ]
  },
  {
   "cell_type": "markdown",
   "metadata": {},
   "source": [
    "### Analyse the subsampled vault"
   ]
  },
  {
   "cell_type": "markdown",
   "metadata": {},
   "source": []
  }
 ],
 "metadata": {
  "kernelspec": {
   "display_name": "og-marl",
   "language": "python",
   "name": "python3"
  },
  "language_info": {
   "codemirror_mode": {
    "name": "ipython",
    "version": 3
   },
   "file_extension": ".py",
   "mimetype": "text/x-python",
   "name": "python",
   "nbconvert_exporter": "python",
   "pygments_lexer": "ipython3",
   "version": "3.9.19"
  }
 },
 "nbformat": 4,
 "nbformat_minor": 2
}
