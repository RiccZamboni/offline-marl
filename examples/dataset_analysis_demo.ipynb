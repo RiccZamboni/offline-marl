{
 "cells": [
  {
   "cell_type": "markdown",
   "metadata": {},
   "source": [
    "# Dataset Analysis Demo\n",
    "\n",
    "This notebook demonstrates how to use the high-level analysis tooling from OG-MARL to inspect datasets."
   ]
  },
  {
   "cell_type": "markdown",
   "metadata": {},
   "source": [
    "### Download a vault and get to know the file structure"
   ]
  },
  {
   "cell_type": "code",
   "execution_count": 1,
   "metadata": {},
   "outputs": [],
   "source": [
    "from og_marl.vault_utils.download_vault import *\n",
    "from og_marl.vault_utils.subsample_vault import subsample_smaller_vault"
   ]
  },
  {
   "cell_type": "code",
   "execution_count": 2,
   "metadata": {},
   "outputs": [
    {
     "name": "stdout",
     "output_type": "stream",
     "text": [
      "{'cfcql': {'smac_v1': {'2s3z': {...},\n",
      "                       '3s_vs_5z': {...},\n",
      "                       '5m_vs_6m': {...},\n",
      "                       '6h_vs_8z': {...}}},\n",
      " 'og_marl': {'mamujoco': {'2halfcheetah': {...}},\n",
      "             'smac_v1': {'2s3z': {...},\n",
      "                         '3m': {...},\n",
      "                         '3s5z_vs_3s6z': {...},\n",
      "                         '5m_vs_6m': {...},\n",
      "                         '8m': {...}},\n",
      "             'smac_v2': {'terran_5_vs_5': {...}, 'zerg_5_vs_5': {...}}}}\n"
     ]
    }
   ],
   "source": [
    "print_download_options()"
   ]
  },
  {
   "cell_type": "markdown",
   "metadata": {},
   "source": [
    "We can either choose a source-environment-task combination from those available above, or we can specify our source-environment-task combination and input our own url for downloading the (zipped) vault."
   ]
  },
  {
   "cell_type": "code",
   "execution_count": 3,
   "metadata": {},
   "outputs": [
    {
     "name": "stdout",
     "output_type": "stream",
     "text": [
      "Vault './vaults/og_marl/smac_v1/2s3z' already exists.\n",
      "Dataset from dipidipidababa could not be downloaded. Try entering a different URL, or removing the part which auto-downloads.\n"
     ]
    }
   ],
   "source": [
    "source = 'og_marl'\n",
    "env = 'smac_v1'\n",
    "task = '2s3z'\n",
    "\n",
    "rel_vault_location = download_and_unzip_vault(source,env,task)\n",
    "_ = download_and_unzip_vault(source,env,'didi',dataset_download_url=\"dipidipidababa\") #trying to download from a nonsense url will not work"
   ]
  },
  {
   "cell_type": "markdown",
   "metadata": {},
   "source": [
    "We have now downloaded our vault into a folder \".vaults/{source}/{env}/{task}.vlt\", if it didn't already exist. The vault may contain multiple datasets, each with a unique identifier, or UID."
   ]
  },
  {
   "cell_type": "code",
   "execution_count": 4,
   "metadata": {},
   "outputs": [
    {
     "name": "stdout",
     "output_type": "stream",
     "text": [
      "./vaults/og_marl/smac_v1/2s3z.vlt\n",
      "['Poor', 'Medium', 'Good']\n"
     ]
    }
   ],
   "source": [
    "print(rel_vault_location)\n",
    "vault_uids = get_available_uids(rel_vault_location)\n",
    "print(vault_uids)"
   ]
  },
  {
   "cell_type": "code",
   "execution_count": null,
   "metadata": {},
   "outputs": [],
   "source": []
  }
 ],
 "metadata": {
  "kernelspec": {
   "display_name": "og-marl",
   "language": "python",
   "name": "python3"
  },
  "language_info": {
   "codemirror_mode": {
    "name": "ipython",
    "version": 3
   },
   "file_extension": ".py",
   "mimetype": "text/x-python",
   "name": "python",
   "nbconvert_exporter": "python",
   "pygments_lexer": "ipython3",
   "version": "3.9.19"
  }
 },
 "nbformat": 4,
 "nbformat_minor": 2
}
