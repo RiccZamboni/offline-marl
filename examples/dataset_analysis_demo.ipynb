{
 "cells": [
  {
   "cell_type": "markdown",
   "metadata": {},
   "source": [
    "# Dataset Analysis Demo\n",
    "\n",
    "This notebook demonstrates how to use the high-level analysis tooling from OG-MARL to inspect datasets."
   ]
  },
  {
   "cell_type": "code",
   "execution_count": 1,
   "metadata": {},
   "outputs": [],
   "source": [
    "from og_marl.vault_utils.download_vault import *"
   ]
  },
  {
   "cell_type": "code",
   "execution_count": 2,
   "metadata": {},
   "outputs": [
    {
     "name": "stdout",
     "output_type": "stream",
     "text": [
      "{'cfcql': {'smac_v1': {'2s3z': {...},\n",
      "                       '3s_vs_5z': {...},\n",
      "                       '5m_vs_6m': {...},\n",
      "                       '6h_vs_8z': {...}}},\n",
      " 'og_marl': {'mamujoco': {'2halfcheetah': {...}},\n",
      "             'smac_v1': {'2s3z': {...},\n",
      "                         '3m': {...},\n",
      "                         '3s5z_vs_3s6z': {...},\n",
      "                         '5m_vs_6m': {...},\n",
      "                         '8m': {...}},\n",
      "             'smac_v2': {'terran_5_vs_5': {...}, 'zerg_5_vs_5': {...}}}}\n"
     ]
    }
   ],
   "source": [
    "print_dataset_options()"
   ]
  },
  {
   "cell_type": "code",
   "execution_count": 3,
   "metadata": {},
   "outputs": [
    {
     "name": "stdout",
     "output_type": "stream",
     "text": [
      "[==================================================]"
     ]
    }
   ],
   "source": [
    "download_and_unzip_vault('og_marl','smac_v1','2s3z')"
   ]
  }
 ],
 "metadata": {
  "kernelspec": {
   "display_name": "og-marl",
   "language": "python",
   "name": "python3"
  },
  "language_info": {
   "codemirror_mode": {
    "name": "ipython",
    "version": 3
   },
   "file_extension": ".py",
   "mimetype": "text/x-python",
   "name": "python",
   "nbconvert_exporter": "python",
   "pygments_lexer": "ipython3",
   "version": "3.9.19"
  }
 },
 "nbformat": 4,
 "nbformat_minor": 2
}
