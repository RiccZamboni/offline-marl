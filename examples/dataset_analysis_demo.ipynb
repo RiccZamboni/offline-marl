{
 "cells": [
  {
   "cell_type": "markdown",
   "metadata": {},
   "source": [
    "# Dataset Analysis Demo\n",
    "\n",
    "This notebook demonstrates how to use the high-level analysis tooling from OG-MARL to inspect datasets."
   ]
  },
  {
   "cell_type": "code",
   "execution_count": 1,
   "metadata": {},
   "outputs": [],
   "source": [
    "from og_marl.vault_utils.download_vault import *\n",
    "from og_marl.vault_utils.analyse_vault import *\n",
    "from flashbax.vault import Vault\n",
    "import jax\n",
    "from og_marl.vault_utils.subsample_smaller import subsample_smaller_vault"
   ]
  },
  {
   "cell_type": "markdown",
   "metadata": {},
   "source": [
    "## Download a vault and get to know the file structure\n",
    "### OG-MARL vault file structure"
   ]
  },
  {
   "cell_type": "code",
   "execution_count": 2,
   "metadata": {},
   "outputs": [
    {
     "name": "stdout",
     "output_type": "stream",
     "text": [
      "{'cfcql': {'smac_v1': {'2s3z': {...},\n",
      "                       '3s_vs_5z': {...},\n",
      "                       '5m_vs_6m': {...},\n",
      "                       '6h_vs_8z': {...}}},\n",
      " 'og_marl': {'mamujoco': {'2halfcheetah': {...}},\n",
      "             'smac_v1': {'2s3z': {...},\n",
      "                         '3m': {...},\n",
      "                         '3s5z_vs_3s6z': {...},\n",
      "                         '5m_vs_6m': {...},\n",
      "                         '8m': {...}},\n",
      "             'smac_v2': {'terran_5_vs_5': {...}, 'zerg_5_vs_5': {...}}}}\n"
     ]
    }
   ],
   "source": [
    "print_download_options()"
   ]
  },
  {
   "cell_type": "markdown",
   "metadata": {},
   "source": [
    "We can either choose a source-environment-task combination from those available above, or we can specify our source-environment-task combination and input our own url for downloading the (zipped) vault."
   ]
  },
  {
   "cell_type": "code",
   "execution_count": 3,
   "metadata": {},
   "outputs": [
    {
     "name": "stdout",
     "output_type": "stream",
     "text": [
      "Vault './vaults/og_marl/smac_v1/2s3z' already exists.\n",
      "Dataset from dipidipidababa could not be downloaded. Try entering a different URL, or removing the part which auto-downloads.\n"
     ]
    }
   ],
   "source": [
    "source = 'og_marl'\n",
    "env = 'smac_v1'\n",
    "task = '2s3z'\n",
    "\n",
    "rel_vault_location = download_and_unzip_vault(source,env,task)\n",
    "_ = download_and_unzip_vault(source,env,'didi',dataset_download_url=\"dipidipidababa\") #trying to download from a nonsense url will not work"
   ]
  },
  {
   "cell_type": "markdown",
   "metadata": {},
   "source": [
    "We have now downloaded our vault into a folder \".vaults/{source}/{env}/{task}.vlt\", if it didn't already exist. The vault may contain multiple datasets, each with a unique identifier, or UID."
   ]
  },
  {
   "cell_type": "code",
   "execution_count": 4,
   "metadata": {},
   "outputs": [
    {
     "name": "stdout",
     "output_type": "stream",
     "text": [
      "./vaults/og_marl/smac_v1/2s3z.vlt\n",
      "['Poor', 'Medium', 'Good']\n"
     ]
    }
   ],
   "source": [
    "print(rel_vault_location)\n",
    "vault_uids = get_available_uids(rel_vault_location)\n",
    "print(vault_uids)"
   ]
  },
  {
   "cell_type": "markdown",
   "metadata": {},
   "source": [
    "So the folder \".vaults/og_marl/smac_v1/2s3z.vlt\" contains a \"Good\", \"Medium\" and \"Poor\" dataset, each in their own folder."
   ]
  },
  {
   "cell_type": "markdown",
   "metadata": {},
   "source": [
    "### OG-MARL vault file structure to Vault file structure\n",
    "The datasets from OG-MARL are placed in a file structure for maximum information retention about the dataset, which is why we talk about source, env, task and uid. Vault distinguishes only between three path components: the relative directory in which the vault sits, the vault name, and the vault uid."
   ]
  },
  {
   "cell_type": "code",
   "execution_count": 5,
   "metadata": {},
   "outputs": [
    {
     "name": "stdout",
     "output_type": "stream",
     "text": [
      "Loading vault found at /home/louise/workspace/og-marl/examples/vaults/og_marl/smac_v1/2s3z.vlt/Poor\n"
     ]
    }
   ],
   "source": [
    "vault_rel_dir = f\"vaults/{source}/{env}\" # combine base vault directory with the dataset source and environment folders\n",
    "vault_name = f\"{task}.vlt\" # a vault name contains only the file name which has the .vlt extension\n",
    "vault_uid = vault_uids[0] # we select the first dataset in the vault\n",
    "\n",
    "vlt = Vault(rel_dir=vault_rel_dir, vault_name=vault_name, vault_uid=vault_uid)"
   ]
  },
  {
   "cell_type": "markdown",
   "metadata": {},
   "source": [
    "For further information about a Vault's api, please see the dataset api demo."
   ]
  },
  {
   "cell_type": "markdown",
   "metadata": {},
   "source": [
    "## Subsample a vault\n",
    "OG-MARL provides tooling for subsampling a vault, in the case where working with a large vault is intractable, or if you just want a smaller vault. This *creates a new vault* so keep an eye on your storage when making lots of subsampled vaults."
   ]
  },
  {
   "cell_type": "markdown",
   "metadata": {},
   "source": [
    "#### Uniformly subsampling episodes to a desired number of transitions\n",
    "We uniformly subsample episodes to within an episode of the desired number of transitions (this is to avoid subsampling partial episodes, since we often work with episode returns of a dataset and a partial episode provides an inaccurate return value).\n",
    "\n",
    "If you try to subsample an amount of transitions greater than the contents of the vault, this function will simply return a copy of the vault with the episodes shuffled, which is a potential if inefficient use case of this function.\n",
    "\n",
    "First, we see how big a dataset is."
   ]
  },
  {
   "cell_type": "code",
   "execution_count": 6,
   "metadata": {},
   "outputs": [
    {
     "name": "stderr",
     "output_type": "stream",
     "text": [
      "An NVIDIA GPU may be present on this machine, but a CUDA-enabled jaxlib is not installed. Falling back to cpu.\n"
     ]
    },
    {
     "data": {
      "text/plain": [
       "{'actions': (1, 996418, 5),\n",
       " 'infos': {'legals': (1, 996418, 5, 11), 'state': (1, 996418, 120)},\n",
       " 'observations': (1, 996418, 5, 80),\n",
       " 'rewards': (1, 996418, 5),\n",
       " 'terminals': (1, 996418, 5),\n",
       " 'truncations': (1, 996418, 5)}"
      ]
     },
     "execution_count": 6,
     "metadata": {},
     "output_type": "execute_result"
    }
   ],
   "source": [
    "all_data = vlt.read()\n",
    "offline_data = all_data.experience\n",
    "jax.tree_map(lambda x: x.shape, offline_data)"
   ]
  },
  {
   "cell_type": "markdown",
   "metadata": {},
   "source": [
    "Now that we know how many transitions are in the dataset (the second value), we can make a good choice of size for subsampling."
   ]
  },
  {
   "cell_type": "code",
   "execution_count": 7,
   "metadata": {},
   "outputs": [
    {
     "name": "stdout",
     "output_type": "stream",
     "text": [
      "Vault 'vaults/og_marl/smac_v1/2s3z_20000' already exists. To subsample from scratch, please remove the current subsampled vault from its directory.\n"
     ]
    }
   ],
   "source": [
    "n_transitions = 20000\n",
    "\n",
    "# we can specify a list with just one uid to subsample only one, but automatically it subsamples each dataset in the vault\n",
    "new_vault_name = subsample_smaller_vault(vault_rel_dir,vault_name,target_number_of_transitions=n_transitions)"
   ]
  },
  {
   "cell_type": "markdown",
   "metadata": {},
   "source": [
    "### Analyse the subsampled vault\n",
    "Now that we have a smaller vault (the OG-MARL datasets contain about a million transitions, so some analysis procedures become intractable), we can analyse it."
   ]
  },
  {
   "cell_type": "code",
   "execution_count": 11,
   "metadata": {},
   "outputs": [
    {
     "name": "stdout",
     "output_type": "stream",
     "text": [
      "./vaults/og_marl/smac_v1/2s3z_20000.vlt\n",
      "Loading vault found at /home/louise/workspace/og-marl/examples/vaults/og_marl/smac_v1/2s3z_20000.vlt/Poor\n",
      "Loading vault found at /home/louise/workspace/og-marl/examples/vaults/og_marl/smac_v1/2s3z_20000.vlt/Medium\n",
      "Loading vault found at /home/louise/workspace/og-marl/examples/vaults/og_marl/smac_v1/2s3z_20000.vlt/Good\n"
     ]
    },
    {
     "data": {
      "image/png": "[encoded data removed]",
      "text/plain": [
       "<Figure size 800x600 with 1 Axes>"
      ]
     },
     "metadata": {},
     "output_type": "display_data"
    },
    {
     "data": {
      "text/plain": [
       "{'Poor': Array([ 8.549019 ,  8.509804 ,  9.044121 ,  8.602931 ,  7.5073524,\n",
       "        10.857857 ,  5.3921657,  4.2500014,  5.879903 ,  6.6666694,\n",
       "         9.203433 ,  6.887256 , 11.176459 ,  6.529412 ,  7.281863 ,\n",
       "         5.367648 ,  7.5294104,  4.4117665,  5.9044123,  8.843126 ,\n",
       "         3.3333337,  6.588236 ,  7.9215713, 10.154427 ,  5.8897076,\n",
       "        10.117642 ,  5.2451043,  9.196063 ,  9.6813545,  4.9509816,\n",
       "         9.786774 ,  9.6201   ,  7.3701015,  6.4705977,  5.215693 ,\n",
       "        10.901973 ,  7.3333344,  6.365192 , 10.490188 ,  6.2401986,\n",
       "         3.7892122,  9.389707 ,  6.1568756,  7.659304 ,  4.588236 ,\n",
       "         7.6911674,  9.669118 ,  4.666669 ,  9.647043 ,  3.1715698,\n",
       "         9.921545 ,  8.742639 ,  7.6470556,  5.2156925,  9.357846 ,\n",
       "         4.686277 ,  6.803931 ,  8.053927 ,  5.1813765,  9.958347 ,\n",
       "         7.637257 ,  8.745098 ,  9.607843 ,  4.58824  ,  3.9583328,\n",
       "         9.401967 ,  6.644614 ,  9.49019  ,  8.509803 , 10.473038 ,\n",
       "         6.3137302,  1.8823556,  4.3333335,  8.769612 ,  5.9534373,\n",
       "         8.286766 ,  2.3333344,  6.887267 ,  8.568623 ,  3.1372552,\n",
       "         5.7426515,  6.4705887,  6.549019 ,  5.607853 ,  9.438712 ,\n",
       "         7.058827 , 10.634788 ,  8.083325 ,  6.137259 ,  6.9803925,\n",
       "         8.705876 ,  9.272059 ,  6.700984 ,  5.666675 ,  4.588241 ,\n",
       "         7.29658  ,  5.274511 ,  6.921581 ,  8.205879 ,  4.9019675,\n",
       "         9.671568 , 13.16665  ,  6.4509916, 11.237758 ,  5.2156863,\n",
       "         7.0980477,  5.960798 ,  5.453439 ,  6.164214 ,  9.649513 ,\n",
       "         9.607844 ,  6.0588236,  8.357842 ,  6.1274514,  8.845578 ,\n",
       "         4.9191246,  7.470588 ,  6.892161 ,  8.183822 ,  4.887256 ,\n",
       "         6.1666675,  6.823529 ,  6.6666656,  6.509812 ,  7.477955 ,\n",
       "         6.21814  ,  5.215695 ,  9.568617 ,  7.0392175,  3.242645 ,\n",
       "         7.941177 ,  5.965686 ,  4.7401977,  7.786755 , 10.892175 ,\n",
       "         3.9068623,  4.862751 ,  7.31863  ,  3.647054 ,  8.333332 ,\n",
       "         5.490194 ,  8.191183 ,  5.6666665, 10.6176405,  5.2254944,\n",
       "         6.3161764,  3.764711 ,  5.2156944,  7.6078496,  5.2156944,\n",
       "         4.137255 ,  5.676471 ,  3.1372552,  4.607844 , 10.5784445,\n",
       "         8.174017 ,  7.5514693,  7.4705887,  6.1715817,  6.968139 ,\n",
       "         7.9289126,  6.64706  ,  6.36766  ,  7.644608 ,  6.79657  ,\n",
       "         6.4779406, 10.723052 , 10.254893 ,  7.0833426,  5.392165 ,\n",
       "         7.235294 ,  7.046568 ,  6.245102 ,  5.2156863,  7.7818747,\n",
       "         6.666667 ,  3.9607835, 10.894604 , 12.529416 ,  3.9607837,\n",
       "         8.372554 ,  5.5882406,  5.215695 ,  8.499999 ,  6.666666 ,\n",
       "        10.333319 ,  9.840684 , 10.257369 ,  4.1568637,  7.0465727,\n",
       "         7.5294104,  8.350482 ,  8.21078  , 10.51962  ,  9.698536 ,\n",
       "         7.375002 ,  8.235295 ,  5.865199 ,  5.92892  ,  3.3333335,\n",
       "         5.705891 ,  6.6666665], dtype=float32),\n",
       " 'Medium': Array([14.0220585, 15.862728 , 11.25     , 12.372548 , 12.230389 ,\n",
       "         8.176471 , 12.512254 , 10.294118 , 12.666668 , 10.343138 ,\n",
       "        12.7843075, 14.965687 , 11.352937 , 12.887253 , 13.377445 ,\n",
       "        20.       , 19.999996 ,  7.7303934, 12.230389 , 11.411766 ,\n",
       "        16.259796 ,  7.769608 , 10.       , 11.012253 , 10.691175 ,\n",
       "        12.901959 , 13.781859 , 12.884801 , 11.125007 , 13.843135 ,\n",
       "        11.497548 , 12.784313 , 13.737742 , 10.019609 , 12.058823 ,\n",
       "         9.906861 , 11.669116 ,  7.328432 , 20.       , 11.379902 ,\n",
       "        15.031862 , 12.475491 , 13.54902  , 12.088237 , 11.602941 ,\n",
       "        15.666666 , 11.392156 , 10.678919 , 13.8553915, 10.6348   ,\n",
       "        11.749998 , 13.725488 , 20.000002 ,  9.941176 , 11.999998 ,\n",
       "         6.183824 , 12.259799 , 12.509806 , 11.438726 , 12.651959 ,\n",
       "        11.176473 , 11.8701   , 12.00245  , 10.627451 , 14.137254 ,\n",
       "        10.274507 ,  9.468137 , 12.529411 , 16.58577  , 13.372544 ,\n",
       "         8.9803915, 13.786759 , 10.450977 , 20.       , 12.431372 ,\n",
       "         6.693628 , 13.874993 , 13.578428 , 11.745098 , 13.509803 ,\n",
       "        14.490196 , 15.710782 , 15.215683 , 11.598041 , 11.014705 ,\n",
       "        20.000002 , 12.132353 ,  9.975489 , 11.120097 , 11.127447 ,\n",
       "        11.151958 , 12.17647  ,  7.32353  ,  9.566176 , 10.830881 ,\n",
       "        12.198528 , 11.2745   , 13.7843275, 13.42402  , 12.58333  ,\n",
       "         7.267157 ,  6.9019628,  7.443628 , 13.15441  , 20.       ,\n",
       "        14.852934 ,  9.825979 , 12.7254925, 12.627448 , 14.034316 ,\n",
       "        13.458332 , 10.987747 , 12.367647 , 14.09804  , 11.156863 ,\n",
       "        20.       , 13.666667 , 19.999998 , 14.862743 , 11.487741 ,\n",
       "        11.914213 , 10.990196 ,  9.223038 , 11.08333  , 10.426465 ,\n",
       "         9.7671585, 12.095588 , 12.137255 ,  9.345589 , 15.656862 ,\n",
       "        11.553919 , 12.588233 , 14.901948 , 11.889706 , 11.269605 ,\n",
       "        11.446078 , 15.186258 , 10.85294  , 12.823531 , 13.308824 ,\n",
       "        13.291664 , 20.       , 19.999996 , 12.463234 , 11.803918 ,\n",
       "        11.42402  , 11.698526 , 20.       ,  8.215687 , 10.411762 ,\n",
       "        13.774501 , 14.539204 , 10.850488 , 15.835782 , 13.823528 ,\n",
       "        12.715687 , 11.647058 , 10.404404 , 13.5098   , 12.389705 ,\n",
       "        20.034313 , 15.627449 , 11.571077 , 13.242649 , 20.093136 ,\n",
       "         7.3480406, 10.080882 , 10.03431  , 20.       , 12.686274 ,\n",
       "        20.470581 , 12.693622 , 11.686276 , 12.828425 , 11.916664 ,\n",
       "        11.823528 ,  9.742646 , 10.039216 , 10.328429 ,  8.029412 ,\n",
       "        11.318624 , 12.512254 , 13.901961 , 11.117646 , 14.999998 ,\n",
       "        12.666668 , 20.039213 ,  9.767155 , 10.740194 , 16.522043 ,\n",
       "        19.999998 , 11.54411  , 12.323524 , 11.039214 , 11.14951  ,\n",
       "         7.352941 , 14.544115 , 10.799019 , 12.372549 , 11.664216 ,\n",
       "        10.671563 , 11.828429 , 14.019599 , 13.37255  , 10.549014 ,\n",
       "        12.323529 ,  9.875003 , 20.117643 , 20.       ,  9.514705 ,\n",
       "        11.948526 , 11.862744 , 11.921567 ,  9.683823 ,  7.9901958,\n",
       "        11.000002 ,  7.7622538, 20.       ,  8.176469 ,  8.794118 ,\n",
       "        11.365195 , 10.205881 , 20.       , 13.242646 , 11.124999 ,\n",
       "        14.470589 ,  9.15931  , 13.784313 , 11.117646 , 11.97794  ,\n",
       "        19.999998 , 20.000002 , 15.22548  , 11.789215 , 10.607843 ,\n",
       "        10.259805 , 12.490196 , 12.09804  ,  0.       , 13.931362 ,\n",
       "        13.223033 , 14.075979 , 14.281859 , 13.487742 ,  9.644607 ,\n",
       "        13.210781 , 10.316176 , 15.098038 , 11.399505 ,  8.431373 ,\n",
       "         9.764707 ,  8.882353 , 13.058826 , 12.117646 , 20.000002 ,\n",
       "        20.117643 , 12.208333 , 14.620098 , 13.745099 , 13.200977 ,\n",
       "        16.313711 , 10.703431 , 11.725491 , 11.620098 ,  8.960785 ,\n",
       "        10.843139 , 13.612743 , 10.901956 , 10.759806 , 20.       ,\n",
       "        12.529411 , 14.549019 , 10.235295 , 14.882352 , 11.426477 ,\n",
       "        13.490191 , 12.666666 , 11.421567 ,  6.4950986, 13.556363 ,\n",
       "        10.936275 , 12.509802 ,  8.45098  , 10.644607 ,  9.338236 ,\n",
       "        12.411768 , 12.078433 , 10.583332 , 13.745097 , 10.490196 ,\n",
       "        11.507349 , 10.882354 , 19.999998 , 11.862747 , 13.823538 ,\n",
       "        14.382353 , 12.644607 ,  7.5416694, 11.96078  ,  7.919119 ,\n",
       "        10.889707 ,  8.941177 , 10.823531 , 15.333346 , 11.965686 ,\n",
       "        20.23529  , 13.637252 ,  9.595594 , 13.7794075,  7.960786 ,\n",
       "         9.068626 , 13.490194 , 16.299019 , 13.40196  , 11.392158 ,\n",
       "         9.764704 ,  9.433825 , 20.000002 , 20.196075 ,  9.634803 ,\n",
       "        10.083331 , 12.007351 ,  9.279412 , 12.41912  , 10.678921 ,\n",
       "        12.281864 , 13.495097 , 15.450979 , 11.196079 , 11.791667 ,\n",
       "        15.843136 , 10.588228 , 11.977942 , 13.980394 ,  9.6470585,\n",
       "        12.164215 , 10.049019 , 12.27451  , 10.651961 , 11.002447 ,\n",
       "        13.803922 ,  7.8921595, 20.068624 ,  9.6862755,  9.274509 ,\n",
       "        19.999998 , 12.502451 , 13.52941  , 12.624998 , 11.825979 ,\n",
       "        15.215688 ,  8.235295 , 11.053925 , 13.754902 , 16.799011 ,\n",
       "        12.274509 , 15.294115 , 11.784315 , 12.313724 , 11.495095 ,\n",
       "         7.495099 , 10.112748 , 10.394603 ,  7.487746 , 12.968136 ,\n",
       "        11.1887245, 12.843137 , 12.286764 ], dtype=float32),\n",
       " 'Good': Array([12.955883 , 19.999998 , 13.41176  , 15.531853 , 20.       ,\n",
       "        20.       , 20.       , 12.745096 , 20.       , 19.999998 ,\n",
       "        13.45833  , 20.07843  , 20.       , 15.392158 , 15.627435 ,\n",
       "        20.009802 , 20.       , 20.       , 20.       , 15.431372 ,\n",
       "        20.049019 , 20.       , 20.       , 20.       , 19.999998 ,\n",
       "        20.039213 , 19.999996 , 20.000002 , 13.843137 , 16.14459  ,\n",
       "        19.999998 , 19.999998 , 20.000002 , 20.039217 , 20.       ,\n",
       "        20.       , 20.000004 , 10.977942 , 15.142158 , 16.316162 ,\n",
       "        14.497551 , 20.       , 14.399509 , 15.764707 , 11.656854 ,\n",
       "        20.       , 19.999996 , 13.007351 , 20.       , 14.333333 ,\n",
       "        13.6862755, 13.843137 , 14.955881 , 20.       , 20.       ,\n",
       "        13.833332 , 20.039213 , 20.117643 , 20.       , 20.000002 ,\n",
       "        20.       , 11.926471 , 20.       , 20.       , 20.       ,\n",
       "        19.999998 , 20.000002 , 20.       , 19.999998 , 16.196075 ,\n",
       "        14.129899 , 20.       , 14.188726 , 20.000002 , 19.999998 ,\n",
       "        11.365193 , 15.549016 , 20.       , 20.       , 15.80392  ,\n",
       "        19.999998 , 11.362744 , 20.       , 20.       , 20.23529  ,\n",
       "        15.389702 , 19.999998 , 20.039215 , 20.       , 14.705883 ,\n",
       "        20.       , 12.375001 , 20.       , 20.000002 , 12.02206  ,\n",
       "        20.       , 20.000002 , 20.       , 20.       , 20.000002 ,\n",
       "        19.999998 , 19.999998 , 20.       , 15.428918 , 19.999998 ,\n",
       "        20.039213 , 19.999998 , 19.999996 , 20.       , 13.137255 ,\n",
       "        20.       , 14.691178 , 20.029408 , 19.999998 , 20.       ,\n",
       "        20.       , 19.999998 , 15.394607 , 11.20098  , 20.       ,\n",
       "        20.       , 20.       , 12.921563 , 20.039215 , 20.       ,\n",
       "        20.       , 20.       , 12.333332 , 19.999998 , 20.       ,\n",
       "        20.       , 20.078428 , 20.       , 20.       , 19.999998 ,\n",
       "        20.039213 , 20.       , 20.       , 11.916665 , 19.999998 ,\n",
       "        19.999998 , 19.999996 , 11.019609 , 11.838224 , 20.       ,\n",
       "        20.039215 , 20.       , 15.117649 , 14.330884 , 20.       ,\n",
       "        20.000002 , 20.       , 20.07843  , 20.000004 , 20.       ,\n",
       "        20.       , 16.176468 , 11.374996 , 20.       , 20.       ,\n",
       "        20.       , 20.       , 20.       , 20.000002 , 19.999998 ,\n",
       "        14.012254 , 19.999998 , 19.999998 , 19.999998 , 20.       ,\n",
       "        19.999998 , 15.823529 , 20.       , 19.999998 , 11.90196  ,\n",
       "        20.039215 , 15.764703 , 20.       , 20.156864 , 15.588235 ,\n",
       "        20.       , 12.289212 , 11.517155 , 16.07843  , 20.       ,\n",
       "        19.999998 , 19.999998 , 20.       , 19.999996 , 20.       ,\n",
       "        20.       , 15.549018 , 19.999996 , 20.       , 20.       ,\n",
       "        11.776957 , 20.039213 , 19.999998 , 15.607842 , 19.999998 ,\n",
       "        20.       , 14.588244 , 20.       , 19.999998 , 20.       ,\n",
       "        20.       , 20.10294  , 20.       , 20.000004 , 20.000002 ,\n",
       "        20.       , 20.       , 19.999998 , 13.294117 , 20.       ,\n",
       "        19.999996 , 20.03431  , 20.       , 19.999998 , 20.       ,\n",
       "        20.000002 , 20.000002 , 13.406859 , 12.240193 , 19.999998 ,\n",
       "        20.       , 19.999998 , 20.       , 20.       , 16.294102 ,\n",
       "        20.034313 , 20.       , 15.843135 , 20.034311 , 20.039215 ,\n",
       "        19.999998 , 20.       , 20.       , 20.078432 , 19.999998 ,\n",
       "        15.78431  , 19.999996 , 13.901957 , 20.       , 20.       ,\n",
       "        14.203434 , 20.       , 20.       , 20.       , 20.       ,\n",
       "        20.       , 20.       , 20.       , 14.696078 , 20.       ,\n",
       "        14.732843 , 19.999998 , 20.000002 , 20.000002 , 20.       ,\n",
       "        12.448528 , 20.264708 , 19.999998 , 20.       , 20.       ,\n",
       "        20.000002 , 20.       , 13.705882 , 20.004902 , 20.000002 ,\n",
       "        14.210783 , 14.919118 , 14.784311 , 20.000002 , 20.009802 ,\n",
       "        20.       , 19.999998 , 20.       , 20.       , 20.       ,\n",
       "        14.313725 , 20.15686  , 20.000002 , 20.       , 20.       ,\n",
       "        20.       , 20.       , 15.725489 , 20.000002 , 12.507348 ,\n",
       "        19.999998 , 20.000002 , 20.       , 20.       , 19.999996 ,\n",
       "        20.       , 19.999998 , 20.       , 19.999998 , 19.999998 ,\n",
       "        20.07843  , 19.999998 , 11.039215 , 20.       , 12.063723 ,\n",
       "        19.999998 , 12.1029415, 19.999998 , 13.470589 , 20.       ,\n",
       "        13.803922 , 19.999998 , 20.000002 , 15.980388 , 19.999998 ,\n",
       "        19.999996 , 20.14706  , 20.       , 20.       , 20.117645 ,\n",
       "        10.899508 , 20.000002 , 20.07843  , 20.       , 20.       ,\n",
       "        20.       , 20.       , 13.316177 , 20.       , 20.       ,\n",
       "        19.999998 , 15.705881 , 15.504906 , 20.       , 20.       ,\n",
       "        12.794116 , 12.348039 , 20.       , 19.999998 , 13.254903 ,\n",
       "        20.       , 10.759802 , 20.       , 20.       , 20.       ,\n",
       "        12.740199 , 20.039215 , 20.       , 20.       , 14.529409 ,\n",
       "        19.999998 , 15.078429 , 20.       , 20.274508 , 20.       ,\n",
       "        12.627452 , 20.156862 , 19.999996 , 20.       , 14.914214 ,\n",
       "        20.       , 20.       , 20.039215 , 10.941176 , 20.       ,\n",
       "        20.       , 20.       , 12.492649 , 20.       , 20.000002 ],      dtype=float32)}"
      ]
     },
     "execution_count": 11,
     "metadata": {},
     "output_type": "execute_result"
    }
   ],
   "source": [
    "# TODO at same level as the analyse_vault: do for all three\n",
    "# In fact, make all the functions able to get from all datasets in the vault, as, like, a list\n",
    "new_vault_name = task+'_'+str(n_transitions)+'.vlt'\n",
    "\n",
    "analyse_vault(vault_name=new_vault_name, rel_dir=vault_rel_dir, visualise=True)"
   ]
  },
  {
   "cell_type": "markdown",
   "metadata": {},
   "source": []
  }
 ],
 "metadata": {
  "kernelspec": {
   "display_name": "og-marl",
   "language": "python",
   "name": "python3"
  },
  "language_info": {
   "codemirror_mode": {
    "name": "ipython",
    "version": 3
   },
   "file_extension": ".py",
   "mimetype": "text/x-python",
   "name": "python",
   "nbconvert_exporter": "python",
   "pygments_lexer": "ipython3",
   "version": "3.9.19"
  }
 },
 "nbformat": 4,
 "nbformat_minor": 2
}
